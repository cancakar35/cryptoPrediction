{
  "cells": [
    {
      "cell_type": "code",
      "execution_count": null,
      "metadata": {
        "id": "raHBwfcIW9uZ"
      },
      "outputs": [],
      "source": [
        "!pip install mplfinance pytrends"
      ]
    },
    {
      "cell_type": "code",
      "execution_count": null,
      "metadata": {
        "id": "_zwx1UkgYEi4"
      },
      "outputs": [],
      "source": [
        "import requests\n",
        "import mplfinance as mpf\n",
        "import datetime\n",
        "import numpy as np\n",
        "import pandas as pd\n",
        "import matplotlib.pyplot as plt\n",
        "import matplotlib.animation as animation\n",
        "import seaborn as sns\n",
        "import tensorflow as tf\n",
        "import time\n",
        "from matplotlib import rc, style\n",
        "from pytrends.request import TrendReq\n",
        "from pytrends import dailydata\n",
        "from sklearn.model_selection import train_test_split\n",
        "from sklearn.metrics import mean_squared_error\n",
        "from sklearn.preprocessing import MinMaxScaler, StandardScaler\n",
        "from keras import Sequential\n",
        "from keras.layers import Dense, LSTM, Dropout\n",
        "from sklearn.linear_model import LinearRegression, ElasticNet, ElasticNetCV\n",
        "\n",
        "\n",
        "def veri_al(kripto=\"ETH\", birim=\"USD\", aralik=\"day\", aggregate=1):\n",
        "    ex = birim\n",
        "    aralik = aralik if aralik in [\"day\",\"hour\",\"minute\"] else \"day\" # day - hour - minute\n",
        "    aggregate = aggregate # (saatlik ve dakikalık için 0-30)\n",
        "    limitdata = 2000 if aralik==\"day\" else 2000//aggregate\n",
        "    toTs= \"\"\n",
        "    sorgu = f\"&aggregate={aggregate}\" if aralik != \"day\" else \"\"\n",
        "    api_key = '' # cryptocompare api key\n",
        "    api_url = f'https://min-api.cryptocompare.com/data/v2/histo{aralik}?limit={limitdata}{sorgu}&fsym={kripto}&tsym={ex}&api_key={api_key}'\n",
        "    api_url_vol = f'https://min-api.cryptocompare.com/data/exchange/histo{aralik}?&limit={limitdata}{sorgu}&tsym={kripto}&api_key={api_key}'\n",
        "    \n",
        "    res = requests.get(api_url).json()\n",
        "    \n",
        "    df = pd.DataFrame(res['Data']['Data'])[['time', 'high', 'low', 'open', 'close']].set_index('time')\n",
        "    df.index = pd.to_datetime(df.index, unit = 's')\n",
        "    if aralik == \"minute\":\n",
        "        df[\"volume\"] = np.nan\n",
        "    else:\n",
        "        res2 = requests.get(api_url_vol).json()\n",
        "        df2 = pd.DataFrame(res2[\"Data\"]).set_index(\"time\")\n",
        "        df2.index = pd.to_datetime(df2.index, unit = 's')\n",
        "        df = pd.concat([df,df2], axis=1)\n",
        "\n",
        "    if aralik in [\"hour\",\"minute\"]:\n",
        "        for i in range(4 if aralik==\"minute\" else 7):\n",
        "            timestamp = int(datetime.datetime.timestamp(df.index[0]))\n",
        "            toTs= f\"&toTs={timestamp}\"\n",
        "            api_url_toTs = f'https://min-api.cryptocompare.com/data/v2/histo{aralik}?limit={limitdata}{sorgu}&fsym={kripto}&tsym={ex}{toTs}&api_key={api_key}'\n",
        "            api_url_vol_toTs = f'https://min-api.cryptocompare.com/data/exchange/histo{aralik}?&limit={limitdata}{sorgu}&tsym={kripto}{toTs}&api_key={api_key}'\n",
        "            rests = requests.get(api_url_toTs).json()\n",
        "            dfTs = pd.DataFrame(rests['Data']['Data'])[['time', 'high', 'low', 'open', 'close']].set_index('time')\n",
        "            dfTs.index = pd.to_datetime(dfTs.index, unit = 's')\n",
        "            if aralik == \"minute\":\n",
        "                dfTs[\"volume\"] = np.nan\n",
        "            else:\n",
        "                restsvol = requests.get(api_url_vol_toTs).json()\n",
        "                dfTsVol = pd.DataFrame(restsvol[\"Data\"]).set_index(\"time\")\n",
        "                dfTsVol.index = pd.to_datetime(dfTsVol.index, unit = 's')\n",
        "                dfTs = pd.concat([dfTs,dfTsVol], axis=1)\n",
        "            df = pd.concat([dfTs, df])\n",
        "    return df"
      ]
    },
    {
      "cell_type": "code",
      "execution_count": null,
      "metadata": {
        "id": "Rr7jdZGrgdhn"
      },
      "outputs": [],
      "source": [
        "kripto = \"ETH\"\n",
        "data = veri_al(kripto=kripto, aralik=\"day\")\n",
        "data"
      ]
    },
    {
      "cell_type": "code",
      "execution_count": null,
      "metadata": {
        "id": "LvH1RhSCyLkb"
      },
      "outputs": [],
      "source": [
        "mpf.plot(data.tail(50), # 50 mumluk verinin mum grafiği\n",
        "          type='candle',\n",
        "          style='charles',\n",
        "          ylabel='Fiyat $',\n",
        "          volume=False if data[\"volume\"].isna().any() else True,\n",
        "          ylabel_lower='Hacim')"
      ]
    },
    {
      "cell_type": "code",
      "execution_count": null,
      "metadata": {
        "id": "3po8qLT0CIwR"
      },
      "outputs": [],
      "source": [
        "sns.set()"
      ]
    },
    {
      "cell_type": "code",
      "execution_count": null,
      "metadata": {
        "id": "lUr6zO9VoK-X"
      },
      "outputs": [],
      "source": [
        "pytrend = TrendReq(tz=120)\n",
        "pytrend.build_payload(kw_list=['bitcoin'], cat=0, timeframe='today 5-y')\n",
        "ftrends = pytrend.interest_over_time()\n",
        "ftrends = ftrends.resample('1d').pad().drop(['isPartial'], axis='columns')\n",
        "ftrends.columns = ['frequency']"
      ]
    },
    {
      "cell_type": "code",
      "execution_count": null,
      "metadata": {
        "id": "Vh-SLln9agEa"
      },
      "outputs": [],
      "source": [
        "data2 = pd.concat([data[[\"close\"]][-180:], ftrends[-180:]], axis=1).dropna()\n",
        "data2_scaled = data2.copy(deep=True)"
      ]
    },
    {
      "cell_type": "code",
      "execution_count": null,
      "metadata": {
        "id": "8JXIFYrQdo3A"
      },
      "outputs": [],
      "source": [
        "std_sc = StandardScaler()\n",
        "data2_scaled['close'] = std_sc.fit_transform(data2_scaled['close'].values.reshape(-1,1))\n",
        "data2_scaled['frequency'] = std_sc.fit_transform(data2_scaled['frequency'].values.reshape(-1,1))"
      ]
    },
    {
      "cell_type": "code",
      "execution_count": null,
      "metadata": {
        "id": "x6dL5qF1jzzk"
      },
      "outputs": [],
      "source": [
        "plt.plot(data2_scaled.index, data2_scaled['close'], color='blue', label=kripto)\n",
        "plt.plot(data2_scaled.index, data2_scaled['frequency'], color='red', label=\"Google Aramaları (btc)\")\n",
        "plt.legend(loc='upper right')\n",
        "plt.xlabel('Tarih')\n",
        "plt.ylabel('Fiyat ve Arama Frekansı')\n",
        "plt.show()"
      ]
    },
    {
      "cell_type": "code",
      "execution_count": null,
      "metadata": {
        "id": "OWkJdGLB-MNY"
      },
      "outputs": [],
      "source": [
        "ma50 = data.close.rolling(window=50).mean()\n",
        "ma9 = data.close.rolling(window=9).mean()"
      ]
    },
    {
      "cell_type": "code",
      "execution_count": null,
      "metadata": {
        "id": "xZUAnkgowxGA"
      },
      "outputs": [],
      "source": [
        "plt.plot(data.index[-360:], data.close[-360:], color='blue', label=kripto)\n",
        "plt.plot(data.index[-360:], ma50[-360:], color='purple', label=\"MA50\") # 50 mum hareketli ortalama\n",
        "plt.plot(data.index[-360:], ma9[-360:], color='yellow', label=\"MA9\") # 9 mum hareketli ortalama\n",
        "plt.title(\"Fiyat ve Hareketli Ortalamalar\")\n",
        "plt.legend(loc=\"upper left\")\n",
        "plt.show()"
      ]
    },
    {
      "cell_type": "code",
      "execution_count": null,
      "metadata": {
        "id": "BUUzzQftiic8"
      },
      "outputs": [],
      "source": [
        "delta = data.close.diff()\n",
        "up = delta.clip(lower=0)\n",
        "down = -1*delta.clip(upper=0)\n",
        "ema_up = up.ewm(com=13, adjust=False).mean()\n",
        "ema_down = down.ewm(com=13, adjust=False).mean()\n",
        "rs = ema_up/ema_down\n",
        "data[\"RSI\"] = 100 - (100/(1+rs))"
      ]
    },
    {
      "cell_type": "code",
      "execution_count": null,
      "metadata": {
        "id": "p9AkZNxYjHTV"
      },
      "outputs": [],
      "source": [
        "fig, (ax1, ax2) = plt.subplots(2, 1, sharex=True, gridspec_kw={'height_ratios': [3, 1], 'hspace': 0.1})\n",
        "ax1.plot(data.index[-360:],data.close[-360:]) # 1 yıllık\n",
        "ax2.plot(data.index[-360:],data.RSI[-360:], color=\"yellow\")\n",
        "ax1.set_ylabel(kripto+\" Fiyat\")\n",
        "ax2.set_ylabel(\"RSI\")\n",
        "plt.show()"
      ]
    },
    {
      "cell_type": "code",
      "execution_count": null,
      "metadata": {
        "id": "TgDLZP_tClK5"
      },
      "outputs": [],
      "source": [
        "close_data = data[[\"close\"]].values\n",
        "scaler = MinMaxScaler()\n",
        "data_sc = scaler.fit_transform(close_data)"
      ]
    },
    {
      "cell_type": "markdown",
      "metadata": {
        "id": "XtYj_axYk5rg"
      },
      "source": [
        "# Sadece kapanış fiyatları ile LSTM"
      ]
    },
    {
      "cell_type": "code",
      "execution_count": null,
      "metadata": {
        "id": "u0aZa30lMhUa"
      },
      "outputs": [],
      "source": [
        "train_data, test_data = train_test_split(data_sc, test_size=0.2, shuffle=False)"
      ]
    },
    {
      "cell_type": "code",
      "execution_count": null,
      "metadata": {
        "id": "QOyoM365JGXI"
      },
      "outputs": [],
      "source": [
        "X_train, y_train = [], []\n",
        "for i in range(60, len(train_data)):\n",
        "    X_train.append(train_data[i-60:i,0])\n",
        "    y_train.append(train_data[i,0])\n",
        "\n",
        "X_train, y_train = np.array(X_train), np.array(y_train)"
      ]
    },
    {
      "cell_type": "code",
      "execution_count": null,
      "metadata": {
        "id": "J1dviCpHKAdX"
      },
      "outputs": [],
      "source": [
        "X_train = X_train.reshape((X_train.shape[0],X_train.shape[1],1))"
      ]
    },
    {
      "cell_type": "code",
      "execution_count": null,
      "metadata": {
        "id": "-NockPcYOGFR"
      },
      "outputs": [],
      "source": [
        "X_test, y_test = [],[]\n",
        "for i in range(60,len(test_data)):\n",
        "    X_test.append(test_data[i-60:i,0])\n",
        "    y_test.append(test_data[i,0])\n",
        "\n",
        "X_test, y_test = np.array(X_test), np.array(y_test)\n",
        "X_test = X_test.reshape((X_test.shape[0], X_test.shape[1],1))\n",
        "y_test = scaler.inverse_transform(y_test.reshape(-1,1))"
      ]
    },
    {
      "cell_type": "code",
      "execution_count": null,
      "metadata": {
        "id": "hwHfqphMMyEf"
      },
      "outputs": [],
      "source": [
        "model = Sequential()\n",
        "model.add(LSTM(units=100, return_sequences=True, input_shape=(X_train.shape[1],1)))\n",
        "model.add(Dropout(0.2))\n",
        "model.add(LSTM(units=100, return_sequences=False))\n",
        "model.add(Dense(25))\n",
        "model.add(Dense(1))\n",
        "model.compile(loss=\"mse\", optimizer=\"adam\")"
      ]
    },
    {
      "cell_type": "code",
      "execution_count": null,
      "metadata": {
        "id": "HqAlP9XGNris"
      },
      "outputs": [],
      "source": [
        "hist = model.fit(X_train, y_train, epochs=50, batch_size=32)"
      ]
    },
    {
      "cell_type": "code",
      "execution_count": null,
      "metadata": {
        "id": "AGUUUNF-Xzsu"
      },
      "outputs": [],
      "source": [
        "preds = model.predict(X_test)\n",
        "preds = scaler.inverse_transform(preds)\n",
        "plt.plot(y_test[-50:], color=\"b\", label=\"Gerçek Değer\")\n",
        "plt.plot(preds[-50:], color=\"magenta\", linestyle=\"--\", label=\"Tahmin Edilen\")\n",
        "plt.legend(loc=\"upper left\")\n",
        "plt.show()"
      ]
    },
    {
      "cell_type": "markdown",
      "metadata": {
        "id": "mTtvEUaDsNap"
      },
      "source": [
        "# En düşük, En yüksek, Açılış ve Kapanış Fiyatları Kullanılarak LSTM"
      ]
    },
    {
      "cell_type": "code",
      "execution_count": null,
      "metadata": {
        "id": "XUujgjP-t0yd"
      },
      "outputs": [],
      "source": [
        "dataset = data.drop([\"volume\", \"RSI\"], axis=1)"
      ]
    },
    {
      "cell_type": "code",
      "execution_count": null,
      "metadata": {
        "id": "GOFTyDZ4us3o"
      },
      "outputs": [],
      "source": [
        "scaler2 = MinMaxScaler()"
      ]
    },
    {
      "cell_type": "code",
      "execution_count": null,
      "metadata": {
        "id": "V7HF6EG2uw8Y"
      },
      "outputs": [],
      "source": [
        "dataset_sc = scaler2.fit_transform(dataset)"
      ]
    },
    {
      "cell_type": "code",
      "execution_count": null,
      "metadata": {
        "id": "5Wi1bJFiu7d-"
      },
      "outputs": [],
      "source": [
        "train_data, test_data = train_test_split(dataset_sc, test_size=0.2, shuffle=False)"
      ]
    },
    {
      "cell_type": "code",
      "execution_count": null,
      "metadata": {
        "id": "zcSmEck9vZNv"
      },
      "outputs": [],
      "source": [
        "X_train, y_train = [], []\n",
        "for i in range(60, len(train_data)):\n",
        "    X_train.append(train_data[i-60:i,:])\n",
        "    y_train.append(train_data[i,0])\n",
        "\n",
        "X_train, y_train = np.array(X_train), np.array(y_train)"
      ]
    },
    {
      "cell_type": "code",
      "execution_count": null,
      "metadata": {
        "id": "3XYiORrfvvmS"
      },
      "outputs": [],
      "source": [
        "X_test, y_test = [],[]\n",
        "for i in range(60,len(test_data)):\n",
        "    X_test.append(test_data[i-60:i,:])\n",
        "    y_test.append(test_data[i,0])\n",
        "\n",
        "X_test, y_test = np.array(X_test), np.array(y_test)\n",
        "y_test = scaler.inverse_transform(y_test.reshape(-1,1))"
      ]
    },
    {
      "cell_type": "code",
      "execution_count": null,
      "metadata": {
        "id": "FryC0mJ8Lh41"
      },
      "outputs": [],
      "source": [
        "model = Sequential()\n",
        "model.add(LSTM(units=100, return_sequences=False, input_shape=(X_train.shape[1],X_train.shape[2])))\n",
        "model.add(Dropout(0.2))\n",
        "model.add(Dense(1, activation=\"linear\"))\n",
        "model.compile(loss=\"mse\", optimizer=\"adam\")\n",
        "history = model.fit(X_train,y_train, epochs=50, batch_size=32)"
      ]
    },
    {
      "cell_type": "code",
      "execution_count": null,
      "metadata": {
        "id": "GXJGAdrv309b"
      },
      "outputs": [],
      "source": [
        "model.save_weights(\"ETHUSD.h5\")"
      ]
    },
    {
      "cell_type": "code",
      "execution_count": null,
      "metadata": {
        "id": "1jAbx6Ev1oZt"
      },
      "outputs": [],
      "source": [
        "pred = model.predict(X_test)"
      ]
    },
    {
      "cell_type": "code",
      "execution_count": null,
      "metadata": {
        "id": "lb3pLEFM11Cy"
      },
      "outputs": [],
      "source": [
        "plt.plot(scaler.inverse_transform(pred.reshape(-1,1))[-180:], color=\"magenta\", linestyle=\"--\", label=\"tahmin\")\n",
        "plt.plot(y_test[-180:], color=\"b\", label=\"gerçek değer\")\n",
        "plt.legend(loc=\"upper left\")\n",
        "plt.title(\"LSTM MODEL (Test Seti)\")\n",
        "plt.show()"
      ]
    },
    {
      "cell_type": "code",
      "execution_count": null,
      "metadata": {
        "id": "430yO8TtOhqQ"
      },
      "outputs": [],
      "source": [
        "son60 = dataset_sc[-60:]"
      ]
    },
    {
      "cell_type": "code",
      "execution_count": null,
      "metadata": {
        "id": "jC-cacFrOXbe"
      },
      "outputs": [],
      "source": [
        "pred2 = model.predict(son60.reshape(1,son60.shape[0],son60.shape[1]))"
      ]
    },
    {
      "cell_type": "code",
      "execution_count": null,
      "metadata": {
        "id": "Mgogd7zIO-uC"
      },
      "outputs": [],
      "source": [
        "scaler.inverse_transform(pred2.reshape(-1,1))"
      ]
    },
    {
      "cell_type": "code",
      "execution_count": null,
      "metadata": {
        "id": "LgPgoWQ-zpHS"
      },
      "outputs": [],
      "source": [
        "data.close.values[-1]"
      ]
    },
    {
      "cell_type": "markdown",
      "metadata": {
        "id": "wH9twK52KOP-"
      },
      "source": [
        "# Lineer Regresyon ve ElasticNet"
      ]
    },
    {
      "cell_type": "code",
      "execution_count": null,
      "metadata": {
        "id": "KTXS9OeExObJ"
      },
      "outputs": [],
      "source": [
        "X_train_2d = X_train.reshape((X_train.shape[0],X_train.shape[1]*X_train.shape[2]))\n",
        "X_test_2d = X_test.reshape((X_test.shape[0],X_test.shape[1]*X_test.shape[2]))"
      ]
    },
    {
      "cell_type": "code",
      "execution_count": null,
      "metadata": {
        "id": "QwVVKMrXwa8s"
      },
      "outputs": [],
      "source": [
        "# Lineer Regresyon\n",
        "reg = LinearRegression()\n",
        "\n",
        "reg.fit(X_train_2d, y_train)"
      ]
    },
    {
      "cell_type": "code",
      "execution_count": null,
      "metadata": {
        "id": "C7gCVabUzNm2"
      },
      "outputs": [],
      "source": [
        "pred = reg.predict(X_test_2d)"
      ]
    },
    {
      "cell_type": "code",
      "execution_count": null,
      "metadata": {
        "id": "NvN_CzYfzicP"
      },
      "outputs": [],
      "source": [
        "plt.plot(scaler.inverse_transform(pred[-180:].reshape(-1,1)), color=\"magenta\", linestyle=\"--\", label=\"tahmin\")\n",
        "plt.plot(y_test[-180:], color=\"b\", label=\"gerçek değer\")\n",
        "plt.legend(loc=\"upper left\")\n",
        "plt.title(\"Lineer Regresyon\")\n",
        "plt.show()"
      ]
    },
    {
      "cell_type": "code",
      "execution_count": null,
      "metadata": {
        "id": "ltoGO4JC3O3x"
      },
      "outputs": [],
      "source": [
        "# ElasticNet\n",
        "elastic_cv = ElasticNetCV(cv = 10, random_state = 0).fit(X_train_2d, y_train)\n",
        "\n",
        "elastic = ElasticNet(alpha=elastic_cv.alpha_)\n",
        "\n",
        "elastic.fit(X_train_2d,y_train)"
      ]
    },
    {
      "cell_type": "code",
      "execution_count": null,
      "metadata": {
        "id": "jo5snzsX7IPo"
      },
      "outputs": [],
      "source": [
        "pred = elastic.predict(X_test_2d)"
      ]
    },
    {
      "cell_type": "code",
      "execution_count": null,
      "metadata": {
        "id": "hxDvpOTQ_r36"
      },
      "outputs": [],
      "source": [
        "plt.plot(scaler.inverse_transform(pred[-180:].reshape(-1,1)), color=\"magenta\", linestyle=\"--\", label=\"tahmin\")\n",
        "plt.plot(y_test[-180:], color=\"b\", label=\"gerçek değer\")\n",
        "plt.legend(loc=\"upper left\")\n",
        "plt.title(\"ElasticNet\")\n",
        "plt.show()"
      ]
    },
    {
      "cell_type": "code",
      "execution_count": null,
      "metadata": {
        "id": "3BmUDhnMg2uz"
      },
      "outputs": [],
      "source": []
    }
  ],
  "metadata": {
    "accelerator": "GPU",
    "colab": {
      "collapsed_sections": [
        "XtYj_axYk5rg",
        "wH9twK52KOP-"
      ],
      "name": "proje1856.ipynb",
      "provenance": []
    },
    "kernelspec": {
      "display_name": "Python 3",
      "name": "python3"
    },
    "language_info": {
      "name": "python"
    }
  },
  "nbformat": 4,
  "nbformat_minor": 0
}

